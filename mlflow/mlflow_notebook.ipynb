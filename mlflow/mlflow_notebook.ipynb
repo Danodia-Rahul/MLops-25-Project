{
  "nbformat": 4,
  "nbformat_minor": 0,
  "metadata": {
    "colab": {
      "provenance": [],
      "gpuType": "T4"
    },
    "kernelspec": {
      "name": "python3",
      "display_name": "Python 3"
    },
    "language_info": {
      "name": "python"
    },
    "accelerator": "GPU"
  },
  "cells": [
    {
      "cell_type": "code",
      "source": [
        "!pip install \"mlflow<3\" -q\n",
        "!pip install pyngrok -q"
      ],
      "metadata": {
        "id": "g8l2wovQkZup"
      },
      "execution_count": null,
      "outputs": []
    },
    {
      "cell_type": "code",
      "source": [
        "from google.colab import files\n",
        "from pathlib import Path\n",
        "import zipfile\n",
        "import shutil\n",
        "\n",
        "def setup():\n",
        "    files.upload()\n",
        "    src_dir = Path('/content/kaggle.json')\n",
        "    dest_dir = Path('/root/.config/kaggle')\n",
        "    dest_dir.mkdir(parents=True, exist_ok=True)\n",
        "    shutil.move(str(src_dir), str(dest_dir))\n",
        "    (dest_dir/'kaggle.json').chmod(0o600)\n",
        "\n",
        "    !kaggle competitions download -c playground-series-s4e12\n",
        "\n",
        "    zipfile.ZipFile('/content/playground-series-s4e12.zip').extractall()\n",
        "\n",
        "setup()"
      ],
      "metadata": {
        "id": "TeSebPhswzlb"
      },
      "execution_count": null,
      "outputs": []
    },
    {
      "cell_type": "code",
      "source": [
        "import mlflow\n",
        "import numpy as np\n",
        "import pandas as pd\n",
        "import subprocess\n",
        "import getpass\n",
        "from pyngrok import ngrok, conf"
      ],
      "metadata": {
        "id": "jAgnmj1XxnVq"
      },
      "execution_count": 3,
      "outputs": []
    },
    {
      "cell_type": "code",
      "source": [
        "MLFLOW_TRACKING_URI = \"sqlite:///mlflow.db\"\n",
        "FOLDER = '/content/artifacts'\n",
        "\n",
        "subprocess.Popen([\"mlflow\", \"server\", \"--backend-store-uri\", MLFLOW_TRACKING_URI, '--default-artifact-root', FOLDER, \"--port\", \"5000\"])"
      ],
      "metadata": {
        "id": "-RvZ3Qm7xvKk",
        "colab": {
          "base_uri": "https://localhost:8080/"
        },
        "outputId": "3a0f358a-e591-4419-cfae-93f737bf0248"
      },
      "execution_count": 4,
      "outputs": [
        {
          "output_type": "execute_result",
          "data": {
            "text/plain": [
              "<Popen: returncode: None args: ['mlflow', 'server', '--backend-store-uri', '...>"
            ]
          },
          "metadata": {},
          "execution_count": 4
        }
      ]
    },
    {
      "cell_type": "code",
      "source": [
        "conf.get_default().auth_token = getpass.getpass()"
      ],
      "metadata": {
        "id": "44gU-VKq4tvN"
      },
      "execution_count": null,
      "outputs": []
    },
    {
      "cell_type": "code",
      "source": [
        "port = 5000\n",
        "public_url = ngrok.connect(port).public_url\n",
        "print(f' * ngrok tunnel \"{public_url}\" -> \"http://127.0.0.1:{port}\"')"
      ],
      "metadata": {
        "id": "vGsLc_QgYuEg"
      },
      "execution_count": null,
      "outputs": []
    },
    {
      "cell_type": "code",
      "source": [
        "import pickle\n",
        "from sklearn.model_selection import train_test_split\n",
        "from sklearn.pipeline import Pipeline\n",
        "from sklearn.impute import SimpleImputer\n",
        "from sklearn.preprocessing import OrdinalEncoder\n",
        "from sklearn.compose import ColumnTransformer"
      ],
      "metadata": {
        "id": "eaJGADByZkyc"
      },
      "execution_count": 7,
      "outputs": []
    },
    {
      "cell_type": "code",
      "source": [
        "def dump_pickle(obj, filename):\n",
        "    with open(filename, 'wb') as f_out:\n",
        "        pickle.dump(obj, f_out)\n",
        "\n",
        "\n",
        "def prepare_data(path='/content/train.csv'):\n",
        "    target = 'Premium Amount'\n",
        "    features = ['Age', 'Annual Income', 'Number of Dependents',\n",
        "                'Occupation', 'Credit Score', 'Property Type']\n",
        "\n",
        "    df = pd.read_csv(path)\n",
        "    df = df[features + [target]].copy()\n",
        "\n",
        "    categorical = df.select_dtypes(include=['object']).columns.tolist()\n",
        "\n",
        "    cat_col_transformer = Pipeline(steps=[\n",
        "        ('imputer', SimpleImputer(strategy='constant', fill_value='missing')),\n",
        "        ('encoder', OrdinalEncoder(handle_unknown='use_encoded_value', unknown_value=-1))\n",
        "    ])\n",
        "\n",
        "    transformer = ColumnTransformer(transformers=[\n",
        "        ('cat', cat_col_transformer, categorical)\n",
        "    ], remainder='passthrough')\n",
        "\n",
        "    transformed = transformer.fit_transform(df[features])\n",
        "\n",
        "    with open('preprocessor.bin', 'wb') as f_out:\n",
        "        pickle.dump(transformer, f_out)\n",
        "\n",
        "    X_train, X_temp, y_train, y_temp = train_test_split(transformed, df[target], test_size=0.3)\n",
        "    X_valid, X_test, y_valid, y_test = train_test_split(X_temp, y_temp, test_size=0.5)\n",
        "\n",
        "    dump_pickle((X_train, y_train), 'train.pkl')\n",
        "    dump_pickle((X_valid, y_valid), 'valid.pkl')\n",
        "    dump_pickle((X_test, y_test), 'test.pkl')\n",
        "\n",
        "prepare_data()"
      ],
      "metadata": {
        "id": "9f6LBC5dZFoH"
      },
      "execution_count": 8,
      "outputs": []
    },
    {
      "cell_type": "code",
      "source": [
        "from hyperopt import fmin, tpe, hp, STATUS_OK\n",
        "from hyperopt.pyll import scope\n",
        "import xgboost as xgb\n",
        "from sklearn.metrics import root_mean_squared_error\n",
        "import mlflow\n",
        "import mlflow.xgboost"
      ],
      "metadata": {
        "id": "f7XplsDnh8x_"
      },
      "execution_count": 9,
      "outputs": []
    },
    {
      "cell_type": "code",
      "source": [
        "def load_file(file_path):\n",
        "    with open(file_path, 'rb') as f_in:\n",
        "        return pickle.load(f_in)"
      ],
      "metadata": {
        "id": "_VEpHLcQPqqE"
      },
      "execution_count": 10,
      "outputs": []
    },
    {
      "cell_type": "code",
      "source": [
        "def hyper_parameter_tuning(num_trials=20):\n",
        "\n",
        "    mlflow.set_tracking_uri('http://127.0.0.1:5000')\n",
        "    mlflow.set_experiment('XGBoost HyperParameter Tuning')\n",
        "\n",
        "    X_train, y_train = load_file('train.pkl')\n",
        "    X_valid, y_valid = load_file('valid.pkl')\n",
        "    X_test, y_test = load_file('test.pkl')\n",
        "\n",
        "    def objective(params):\n",
        "\n",
        "        with mlflow.start_run():\n",
        "\n",
        "            mlflow.log_params(params)\n",
        "\n",
        "            model = xgb.XGBRegressor(**params, device='cuda')\n",
        "            model.fit(X_train, y_train)\n",
        "\n",
        "            y_pred = model.predict(X_valid)\n",
        "            rmse = root_mean_squared_error(y_valid, y_pred)\n",
        "\n",
        "            mlflow.log_metric('rmse', rmse)\n",
        "\n",
        "            return {'loss': rmse, 'status': STATUS_OK}\n",
        "\n",
        "    search_space = {\n",
        "        'max_depth': scope.int(hp.quniform('max_depth', 3, 15, 1)),\n",
        "        'n_estimators': scope.int(hp.quniform('n_estimators', 100, 2000, 50)),\n",
        "        'learning_rate': hp.loguniform('learning_rate', -3, 0),\n",
        "        'reg_alpha': hp.loguniform('reg_alpha', -3, 1),\n",
        "        'reg_lambda': hp.loguniform('reg_lambda', -3, 1)\n",
        "    }\n",
        "\n",
        "    best_result = fmin(\n",
        "        fn=objective,\n",
        "        space=search_space,\n",
        "        algo=tpe.suggest,\n",
        "        max_evals=num_trials,\n",
        "    )"
      ],
      "metadata": {
        "id": "ffBeqW5OiWNg"
      },
      "execution_count": 11,
      "outputs": []
    },
    {
      "cell_type": "code",
      "source": [
        "hyper_parameter_tuning()"
      ],
      "metadata": {
        "id": "IgfyYZpPqkmT"
      },
      "execution_count": null,
      "outputs": []
    },
    {
      "cell_type": "code",
      "source": [
        "from mlflow import MlflowClient\n",
        "from mlflow.entities import ViewType"
      ],
      "metadata": {
        "id": "pGh0Nk4fWRYq"
      },
      "execution_count": 13,
      "outputs": []
    },
    {
      "cell_type": "code",
      "source": [
        "def register_model():\n",
        "\n",
        "    HPO_EXPERIMENT_NAME = 'XGBoost HyperParameter Tuning'\n",
        "    EXPERIMENT_NAME = 'BEST XGB MODELS'\n",
        "\n",
        "    mlflow.set_tracking_uri(MLFLOW_TRACKING_URI)\n",
        "    mlflow.set_experiment(EXPERIMENT_NAME)\n",
        "    # mlflow.xgboost.autolog()\n",
        "\n",
        "    def train_and_log_model(params):\n",
        "\n",
        "        X_train, y_train = load_file('train.pkl')\n",
        "        X_valid, y_valid = load_file('valid.pkl')\n",
        "        X_test, y_test = load_file('test.pkl')\n",
        "\n",
        "        with mlflow.start_run():\n",
        "            parsed_params = {k: int(v) if v.isdigit() else float(v) for k, v in params.items()}\n",
        "\n",
        "            model = xgb.XGBRegressor(**parsed_params, device='cuda')\n",
        "            model.fit(X_train, y_train)\n",
        "\n",
        "            y_pred = model.predict(X_test)\n",
        "            test_rmse = root_mean_squared_error(y_test, y_pred)\n",
        "            mlflow.log_metric(\"test_rmse\", test_rmse)\n",
        "\n",
        "            mlflow.log_artifact('preprocessor.bin')\n",
        "            mlflow.xgboost.log_model(model, artifact_path='model')\n",
        "\n",
        "    def run_register_model(top_n=5):\n",
        "\n",
        "        client = MlflowClient()\n",
        "\n",
        "        experiment = client.get_experiment_by_name(HPO_EXPERIMENT_NAME)\n",
        "        runs = client.search_runs(\n",
        "            experiment_ids=experiment.experiment_id,\n",
        "            run_view_type=ViewType.ACTIVE_ONLY,\n",
        "            max_results=top_n,\n",
        "            order_by=[\"metrics.rmse ASC\"]\n",
        "        )\n",
        "        for run in runs:\n",
        "            train_and_log_model(run.data.params)\n",
        "\n",
        "        experiment = client.get_experiment_by_name(EXPERIMENT_NAME)\n",
        "        best_run = client.search_runs(\n",
        "            experiment_ids=experiment.experiment_id,\n",
        "            order_by=['metrics.test_rmse ASC']\n",
        "        )[0]\n",
        "\n",
        "        mlflow.register_model(\n",
        "            model_uri=f'runs:/{best_run.info.run_id}/model',\n",
        "            name='BEST XGBOOST MODEL'\n",
        "        )\n",
        "\n",
        "    run_register_model()\n"
      ],
      "metadata": {
        "id": "dqDv1Q7c0hjy"
      },
      "execution_count": 14,
      "outputs": []
    },
    {
      "cell_type": "code",
      "source": [
        "mlflow.__version__"
      ],
      "metadata": {
        "id": "m1Zuwr1V-SDH"
      },
      "execution_count": null,
      "outputs": []
    },
    {
      "cell_type": "code",
      "source": [
        "register_model()"
      ],
      "metadata": {
        "colab": {
          "base_uri": "https://localhost:8080/"
        },
        "id": "y17Nhz0IWbg5",
        "outputId": "a4fe42ff-cf61-47bc-b142-f38f4846c20e"
      },
      "execution_count": 16,
      "outputs": [
        {
          "output_type": "stream",
          "name": "stderr",
          "text": [
            "2025/07/26 15:00:12 INFO mlflow.tracking.fluent: Experiment with name 'BEST XGB MODELS' does not exist. Creating a new experiment.\n",
            "/usr/local/lib/python3.11/dist-packages/xgboost/sklearn.py:1028: UserWarning: [15:00:13] WARNING: /workspace/src/c_api/c_api.cc:1427: Saving model in the UBJSON format as default.  You can use file extension: `json`, `ubj` or `deprecated` to choose between formats.\n",
            "  self.get_booster().save_model(fname)\n",
            "\u001b[31m2025/07/26 15:00:21 WARNING mlflow.models.model: Model logged without a signature and input example. Please set `input_example` parameter when logging the model to auto infer the model signature.\u001b[0m\n",
            "/usr/local/lib/python3.11/dist-packages/xgboost/sklearn.py:1028: UserWarning: [15:00:23] WARNING: /workspace/src/c_api/c_api.cc:1427: Saving model in the UBJSON format as default.  You can use file extension: `json`, `ubj` or `deprecated` to choose between formats.\n",
            "  self.get_booster().save_model(fname)\n",
            "\u001b[31m2025/07/26 15:00:27 WARNING mlflow.models.model: Model logged without a signature and input example. Please set `input_example` parameter when logging the model to auto infer the model signature.\u001b[0m\n",
            "/usr/local/lib/python3.11/dist-packages/xgboost/sklearn.py:1028: UserWarning: [15:00:31] WARNING: /workspace/src/c_api/c_api.cc:1427: Saving model in the UBJSON format as default.  You can use file extension: `json`, `ubj` or `deprecated` to choose between formats.\n",
            "  self.get_booster().save_model(fname)\n",
            "\u001b[31m2025/07/26 15:00:35 WARNING mlflow.models.model: Model logged without a signature and input example. Please set `input_example` parameter when logging the model to auto infer the model signature.\u001b[0m\n",
            "/usr/local/lib/python3.11/dist-packages/xgboost/sklearn.py:1028: UserWarning: [15:00:40] WARNING: /workspace/src/c_api/c_api.cc:1427: Saving model in the UBJSON format as default.  You can use file extension: `json`, `ubj` or `deprecated` to choose between formats.\n",
            "  self.get_booster().save_model(fname)\n",
            "\u001b[31m2025/07/26 15:00:46 WARNING mlflow.models.model: Model logged without a signature and input example. Please set `input_example` parameter when logging the model to auto infer the model signature.\u001b[0m\n",
            "/usr/local/lib/python3.11/dist-packages/xgboost/sklearn.py:1028: UserWarning: [15:00:48] WARNING: /workspace/src/c_api/c_api.cc:1427: Saving model in the UBJSON format as default.  You can use file extension: `json`, `ubj` or `deprecated` to choose between formats.\n",
            "  self.get_booster().save_model(fname)\n",
            "\u001b[31m2025/07/26 15:00:52 WARNING mlflow.models.model: Model logged without a signature and input example. Please set `input_example` parameter when logging the model to auto infer the model signature.\u001b[0m\n",
            "Successfully registered model 'BEST XGBOOST MODEL'.\n",
            "Created version '1' of model 'BEST XGBOOST MODEL'.\n"
          ]
        }
      ]
    },
    {
      "cell_type": "code",
      "source": [
        "\n"
      ],
      "metadata": {
        "id": "6Qyd0TBRWe1x"
      },
      "execution_count": null,
      "outputs": []
    }
  ]
}