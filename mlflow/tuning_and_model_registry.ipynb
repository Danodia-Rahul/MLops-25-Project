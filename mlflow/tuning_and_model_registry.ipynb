{
  "nbformat": 4,
  "nbformat_minor": 0,
  "metadata": {
    "colab": {
      "provenance": [],
      "gpuType": "T4",
      "authorship_tag": "ABX9TyN8NzIbE1Pist51S4dDLm2b"
    },
    "kernelspec": {
      "name": "python3",
      "display_name": "Python 3"
    },
    "language_info": {
      "name": "python"
    },
    "accelerator": "GPU"
  },
  "cells": [
    {
      "cell_type": "markdown",
      "source": [
        "###AWS Setup"
      ],
      "metadata": {
        "id": "PfK3kJDiE2N2"
      }
    },
    {
      "cell_type": "code",
      "source": [
        "!pip install mlflow -q\n",
        "\n",
        "!pip install aws configure\n",
        "!pip install awscli\n",
        "!aws configure\n",
        "\n",
        "!pip install boto3"
      ],
      "metadata": {
        "id": "g8l2wovQkZup"
      },
      "execution_count": null,
      "outputs": []
    },
    {
      "cell_type": "markdown",
      "source": [
        "###Kaggle Setup"
      ],
      "metadata": {
        "id": "Cb9mt6zPE8UX"
      }
    },
    {
      "cell_type": "code",
      "source": [
        "from google.colab import files\n",
        "from pathlib import Path\n",
        "import zipfile\n",
        "import shutil\n",
        "\n",
        "def setup():\n",
        "    files.upload()\n",
        "    src_dir = Path('/content/kaggle.json')\n",
        "    dest_dir = Path('/root/.config/kaggle')\n",
        "    dest_dir.mkdir(parents=True, exist_ok=True)\n",
        "    shutil.move(str(src_dir), str(dest_dir))\n",
        "    (dest_dir/'kaggle.json').chmod(0o600)\n",
        "\n",
        "    !kaggle competitions download -c playground-series-s4e12\n",
        "\n",
        "    zipfile.ZipFile('/content/playground-series-s4e12.zip').extractall()\n",
        "\n",
        "setup()"
      ],
      "metadata": {
        "id": "TeSebPhswzlb"
      },
      "execution_count": null,
      "outputs": []
    },
    {
      "cell_type": "code",
      "source": [
        "import mlflow\n",
        "import numpy as np\n",
        "import pandas as pd"
      ],
      "metadata": {
        "id": "jAgnmj1XxnVq"
      },
      "execution_count": 4,
      "outputs": []
    },
    {
      "cell_type": "code",
      "source": [
        "import boto3"
      ],
      "metadata": {
        "id": "jZxWZK0V-x_R"
      },
      "execution_count": 8,
      "outputs": []
    },
    {
      "cell_type": "code",
      "source": [
        "from hyperopt import fmin, tpe, hp, STATUS_OK\n",
        "from hyperopt.pyll import scope\n",
        "import xgboost as xgb\n",
        "from sklearn.metrics import root_mean_squared_error\n",
        "import mlflow\n",
        "import mlflow.xgboost"
      ],
      "metadata": {
        "id": "f7XplsDnh8x_"
      },
      "execution_count": 9,
      "outputs": []
    },
    {
      "cell_type": "code",
      "source": [
        "import pickle\n",
        "from sklearn.model_selection import train_test_split\n",
        "from sklearn.pipeline import Pipeline\n",
        "from sklearn.impute import SimpleImputer\n",
        "from sklearn.preprocessing import OrdinalEncoder\n",
        "from sklearn.compose import ColumnTransformer"
      ],
      "metadata": {
        "id": "eaJGADByZkyc"
      },
      "execution_count": 6,
      "outputs": []
    },
    {
      "cell_type": "code",
      "source": [
        "from mlflow import MlflowClient\n",
        "from mlflow.entities import ViewType"
      ],
      "metadata": {
        "id": "pGh0Nk4fWRYq"
      },
      "execution_count": 21,
      "outputs": []
    },
    {
      "cell_type": "code",
      "source": [
        "MLFLOW_TRACKING_URI = 'http://ec2-56-228-18-135.eu-north-1.compute.amazonaws.com:5000'"
      ],
      "metadata": {
        "id": "-_CYa2zF8vHl"
      },
      "execution_count": 5,
      "outputs": []
    },
    {
      "cell_type": "markdown",
      "source": [
        "### Preprocess data"
      ],
      "metadata": {
        "id": "fG8VjCDJFHG5"
      }
    },
    {
      "cell_type": "code",
      "source": [
        "def dump_pickle(obj, filename):\n",
        "    with open(filename, 'wb') as f_out:\n",
        "        pickle.dump(obj, f_out)\n",
        "\n",
        "\n",
        "def prepare_data(path='/content/train.csv'):\n",
        "    target = 'Premium Amount'\n",
        "    features = ['Age', 'Annual Income', 'Number of Dependents',\n",
        "                'Occupation', 'Credit Score', 'Property Type']\n",
        "\n",
        "    df = pd.read_csv(path)\n",
        "    df = df[features + [target]].copy()\n",
        "\n",
        "    categorical = df.select_dtypes(include=['object']).columns.tolist()\n",
        "\n",
        "    cat_col_transformer = Pipeline(steps=[\n",
        "        ('imputer', SimpleImputer(strategy='constant', fill_value='missing')),\n",
        "        ('encoder', OrdinalEncoder(handle_unknown='use_encoded_value', unknown_value=-1))\n",
        "    ])\n",
        "\n",
        "    transformer = ColumnTransformer(transformers=[\n",
        "        ('cat', cat_col_transformer, categorical)\n",
        "    ], remainder='passthrough')\n",
        "\n",
        "    transformed = transformer.fit_transform(df[features])\n",
        "\n",
        "    with open('preprocessor.bin', 'wb') as f_out:\n",
        "        pickle.dump(transformer, f_out)\n",
        "\n",
        "    X_train, X_temp, y_train, y_temp = train_test_split(transformed, df[target], test_size=0.3)\n",
        "    X_valid, X_test, y_valid, y_test = train_test_split(X_temp, y_temp, test_size=0.5)\n",
        "\n",
        "    dump_pickle((X_train, y_train), 'train.pkl')\n",
        "    dump_pickle((X_valid, y_valid), 'valid.pkl')\n",
        "    dump_pickle((X_test, y_test), 'test.pkl')\n",
        "\n",
        "prepare_data()"
      ],
      "metadata": {
        "id": "9f6LBC5dZFoH"
      },
      "execution_count": 8,
      "outputs": []
    },
    {
      "cell_type": "code",
      "source": [
        "def load_file(file_path):\n",
        "    with open(file_path, 'rb') as f_in:\n",
        "        return pickle.load(f_in)"
      ],
      "metadata": {
        "id": "_VEpHLcQPqqE"
      },
      "execution_count": 10,
      "outputs": []
    },
    {
      "cell_type": "markdown",
      "source": [
        "### Hyper parameter tuning"
      ],
      "metadata": {
        "id": "Ng_vBmAqFMPg"
      }
    },
    {
      "cell_type": "code",
      "source": [
        "def hyper_parameter_tuning(num_trials=10):\n",
        "\n",
        "    mlflow.set_tracking_uri(MLFLOW_TRACKING_URI)\n",
        "    mlflow.set_experiment('XGBoost Tuning')\n",
        "\n",
        "    X_train, y_train = load_file('train.pkl')\n",
        "    X_valid, y_valid = load_file('valid.pkl')\n",
        "    X_test, y_test = load_file('test.pkl')\n",
        "\n",
        "    def objective(params):\n",
        "\n",
        "        with mlflow.start_run():\n",
        "\n",
        "            mlflow.log_params(params)\n",
        "\n",
        "            model = xgb.XGBRegressor(**params, device='cuda')\n",
        "            model.fit(X_train, y_train)\n",
        "\n",
        "            y_pred = model.predict(X_valid)\n",
        "            rmse = root_mean_squared_error(y_valid, y_pred)\n",
        "\n",
        "            mlflow.log_metric('rmse', rmse)\n",
        "\n",
        "            return {'loss': rmse, 'status': STATUS_OK}\n",
        "\n",
        "    search_space = {\n",
        "        'max_depth': scope.int(hp.quniform('max_depth', 3, 15, 1)),\n",
        "        'n_estimators': scope.int(hp.quniform('n_estimators', 100, 2000, 50)),\n",
        "        'learning_rate': hp.loguniform('learning_rate', -3, 0),\n",
        "        'reg_alpha': hp.loguniform('reg_alpha', -3, 1),\n",
        "        'reg_lambda': hp.loguniform('reg_lambda', -3, 1)\n",
        "    }\n",
        "\n",
        "    best_result = fmin(\n",
        "        fn=objective,\n",
        "        space=search_space,\n",
        "        algo=tpe.suggest,\n",
        "        max_evals=num_trials,\n",
        "    )"
      ],
      "metadata": {
        "id": "ffBeqW5OiWNg"
      },
      "execution_count": 15,
      "outputs": []
    },
    {
      "cell_type": "code",
      "source": [
        "hyper_parameter_tuning()"
      ],
      "metadata": {
        "id": "IgfyYZpPqkmT",
        "colab": {
          "base_uri": "https://localhost:8080/"
        },
        "outputId": "80d25d9b-578a-4e05-e2b9-c3af7fa05fa6"
      },
      "execution_count": 16,
      "outputs": [
        {
          "output_type": "stream",
          "name": "stderr",
          "text": [
            "2025/07/28 12:30:02 INFO mlflow.tracking.fluent: Experiment with name 'XGBoost Tuning' does not exist. Creating a new experiment.\n"
          ]
        },
        {
          "output_type": "stream",
          "name": "stdout",
          "text": [
            "\r  0%|          | 0/10 [00:00<?, ?trial/s, best loss=?]"
          ]
        },
        {
          "output_type": "stream",
          "name": "stderr",
          "text": [
            "/usr/local/lib/python3.11/dist-packages/xgboost/core.py:729: UserWarning: [12:30:49] WARNING: /workspace/src/common/error_msg.cc:58: Falling back to prediction using DMatrix due to mismatched devices. This might lead to higher memory usage and slower performance. XGBoost is running on: cuda:0, while the input data is on: cpu.\n",
            "Potential solutions:\n",
            "- Use a data structure that matches the device ordinal in the booster.\n",
            "- Set the device for booster before call to inplace_predict.\n",
            "\n",
            "This warning will only be shown once.\n",
            "\n",
            "  return func(**kwargs)\n",
            "\n"
          ]
        },
        {
          "output_type": "stream",
          "name": "stdout",
          "text": [
            "🏃 View run carefree-ape-221 at: http://ec2-56-228-18-135.eu-north-1.compute.amazonaws.com:5000/#/experiments/3/runs/8225e66912c74adf9dd0c987282f7268\n",
            "\n",
            "🧪 View experiment at: http://ec2-56-228-18-135.eu-north-1.compute.amazonaws.com:5000/#/experiments/3\n",
            "\n",
            "🏃 View run orderly-loon-876 at: http://ec2-56-228-18-135.eu-north-1.compute.amazonaws.com:5000/#/experiments/3/runs/093b52ed14574865b597b740b452b3b4\n",
            "\n",
            "🧪 View experiment at: http://ec2-56-228-18-135.eu-north-1.compute.amazonaws.com:5000/#/experiments/3\n",
            "\n",
            "🏃 View run ambitious-worm-103 at: http://ec2-56-228-18-135.eu-north-1.compute.amazonaws.com:5000/#/experiments/3/runs/b2ab96610c30452fb310cc951e07e193\n",
            "\n",
            "🧪 View experiment at: http://ec2-56-228-18-135.eu-north-1.compute.amazonaws.com:5000/#/experiments/3\n",
            "\n",
            "🏃 View run legendary-bug-924 at: http://ec2-56-228-18-135.eu-north-1.compute.amazonaws.com:5000/#/experiments/3/runs/3742916db8e3461883f53be219c5ec63\n",
            "\n",
            "🧪 View experiment at: http://ec2-56-228-18-135.eu-north-1.compute.amazonaws.com:5000/#/experiments/3\n",
            "\n",
            "🏃 View run burly-swan-249 at: http://ec2-56-228-18-135.eu-north-1.compute.amazonaws.com:5000/#/experiments/3/runs/56de726bae014b2cac62d61f9c2dd034\n",
            "\n",
            "🧪 View experiment at: http://ec2-56-228-18-135.eu-north-1.compute.amazonaws.com:5000/#/experiments/3\n",
            "\n",
            "🏃 View run delicate-fowl-787 at: http://ec2-56-228-18-135.eu-north-1.compute.amazonaws.com:5000/#/experiments/3/runs/8d306570b9ff4d43a8c206d6f147b2c4\n",
            "\n",
            "🧪 View experiment at: http://ec2-56-228-18-135.eu-north-1.compute.amazonaws.com:5000/#/experiments/3\n",
            "\n",
            "🏃 View run delicate-quail-314 at: http://ec2-56-228-18-135.eu-north-1.compute.amazonaws.com:5000/#/experiments/3/runs/0000ead45bfe4568b9f0418cf3bc25f7\n",
            "\n",
            "🧪 View experiment at: http://ec2-56-228-18-135.eu-north-1.compute.amazonaws.com:5000/#/experiments/3\n",
            "\n",
            "🏃 View run suave-snail-436 at: http://ec2-56-228-18-135.eu-north-1.compute.amazonaws.com:5000/#/experiments/3/runs/df43c0066c014c13a5f263fa3fe2d52e\n",
            "\n",
            "🧪 View experiment at: http://ec2-56-228-18-135.eu-north-1.compute.amazonaws.com:5000/#/experiments/3\n",
            "\n",
            "🏃 View run brawny-gull-842 at: http://ec2-56-228-18-135.eu-north-1.compute.amazonaws.com:5000/#/experiments/3/runs/b8d0f46894c6440793acaba202101161\n",
            "\n",
            "🧪 View experiment at: http://ec2-56-228-18-135.eu-north-1.compute.amazonaws.com:5000/#/experiments/3\n",
            "\n",
            "🏃 View run rare-doe-486 at: http://ec2-56-228-18-135.eu-north-1.compute.amazonaws.com:5000/#/experiments/3/runs/f0b021f5b01e4631a2bdcad4bcc881df\n",
            "\n",
            "🧪 View experiment at: http://ec2-56-228-18-135.eu-north-1.compute.amazonaws.com:5000/#/experiments/3\n",
            "\n",
            "100%|██████████| 10/10 [07:24<00:00, 44.42s/trial, best loss: 865.5132204035845]\n"
          ]
        }
      ]
    },
    {
      "cell_type": "markdown",
      "source": [
        "### Model Registry"
      ],
      "metadata": {
        "id": "YRejrwitFQQB"
      }
    },
    {
      "cell_type": "code",
      "source": [
        "def register_model():\n",
        "\n",
        "    HPO_EXPERIMENT_NAME = 'XGBoost Tuning'\n",
        "    EXPERIMENT_NAME = 'XGB MODELS'\n",
        "\n",
        "    mlflow.set_tracking_uri(MLFLOW_TRACKING_URI)\n",
        "    mlflow.set_experiment(EXPERIMENT_NAME)\n",
        "\n",
        "    def train_and_log_model(params):\n",
        "\n",
        "        X_train, y_train = load_file('train.pkl')\n",
        "        X_valid, y_valid = load_file('valid.pkl')\n",
        "        X_test, y_test = load_file('test.pkl')\n",
        "\n",
        "        with mlflow.start_run():\n",
        "            parsed_params = {k: int(v) if v.isdigit() else float(v) for k, v in params.items()}\n",
        "\n",
        "            model = xgb.XGBRegressor(**parsed_params, device='cuda')\n",
        "            model.fit(X_train, y_train)\n",
        "\n",
        "            y_pred = model.predict(X_test)\n",
        "            test_rmse = root_mean_squared_error(y_test, y_pred)\n",
        "            mlflow.log_metric(\"test_rmse\", test_rmse)\n",
        "\n",
        "            mlflow.log_artifact('preprocessor.bin')\n",
        "            mlflow.xgboost.log_model(model, artifact_path='model')\n",
        "\n",
        "    def run_register_model(top_n=5):\n",
        "\n",
        "        client = MlflowClient()\n",
        "\n",
        "        experiment = client.get_experiment_by_name(HPO_EXPERIMENT_NAME)\n",
        "        runs = client.search_runs(\n",
        "            experiment_ids=experiment.experiment_id,\n",
        "            run_view_type=ViewType.ACTIVE_ONLY,\n",
        "            max_results=top_n,\n",
        "            order_by=[\"metrics.rmse ASC\"]\n",
        "        )\n",
        "        for run in runs:\n",
        "            train_and_log_model(run.data.params)\n",
        "\n",
        "        experiment = client.get_experiment_by_name(EXPERIMENT_NAME)\n",
        "        best_run = client.search_runs(\n",
        "            experiment_ids=experiment.experiment_id,\n",
        "            order_by=['metrics.test_rmse ASC']\n",
        "        )[0]\n",
        "\n",
        "        mlflow.register_model(\n",
        "            model_uri=f'runs:/{best_run.info.run_id}/model',\n",
        "            name='BEST XGBOOST MODEL'\n",
        "        )\n",
        "\n",
        "    run_register_model()\n"
      ],
      "metadata": {
        "id": "dqDv1Q7c0hjy"
      },
      "execution_count": 22,
      "outputs": []
    },
    {
      "cell_type": "code",
      "source": [
        "register_model()"
      ],
      "metadata": {
        "id": "y17Nhz0IWbg5",
        "collapsed": true
      },
      "execution_count": null,
      "outputs": []
    },
    {
      "cell_type": "code",
      "source": [],
      "metadata": {
        "id": "UbhI3csUWCJJ"
      },
      "execution_count": null,
      "outputs": []
    }
  ]
}